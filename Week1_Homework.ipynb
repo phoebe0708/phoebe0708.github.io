{
 "cells": [
  {
   "cell_type": "code",
   "execution_count": 1,
   "id": "150702e4",
   "metadata": {},
   "outputs": [
    {
     "name": "stdout",
     "output_type": "stream",
     "text": [
      "Nhập Họ:\n",
      "Nhập Tên đệm và tên:van a\n",
      "Nhập Danh xưng (Mr hoặc Ms):mr\n",
      "Xin chào mr \n",
      "Tên in trên vé của bạn là  van a\n"
     ]
    }
   ],
   "source": [
    "def In_Loi_Chao(Ho,Ten):\n",
    "    print(\"Xin chào\",DanhXung,Ho)\n",
    "    print(\"Tên in trên vé của bạn là\",Ho,Ten)\n",
    "Ho = input(\"Nhập Họ:\")\n",
    "Ten = input(\"Nhập Tên đệm và tên:\")\n",
    "DanhXung = input(\"Nhập Danh xưng (Mr hoặc Ms):\")\n",
    "In_Loi_Chao(Ho,Ten)"
   ]
  },
  {
   "cell_type": "code",
   "execution_count": null,
   "id": "71f4725d",
   "metadata": {},
   "outputs": [
    {
     "name": "stdout",
     "output_type": "stream",
     "text": [
      "Nhập Họ:nguyen\n",
      "Nhập Tên đệm và tên:van a\n",
      "Tên in trên vé của bạn là nguyen van a\n",
      "Số ghế của bạn là 100\n"
     ]
    }
   ],
   "source": [
    "\n",
    "soghe=99\n",
    "def In_Loi_Chao(Ho,Ten):\n",
    "    Ho = input(\"Nhập Họ:\")\n",
    "    Ten = input(\"Nhập Tên đệm và tên:\")\n",
    "    print(\"Tên in trên vé của bạn là\",Ho,Ten)\n",
    "    global soghe\n",
    "    soghe+=1\n",
    "    print(\"Số ghế của bạn là\",soghe)\n",
    "In_Loi_Chao(Ho,Ten)\n",
    "In_Loi_Chao(Ho,Ten)\n"
   ]
  },
  {
   "cell_type": "code",
   "execution_count": 3,
   "id": "180e6ec3",
   "metadata": {},
   "outputs": [
    {
     "name": "stdout",
     "output_type": "stream",
     "text": [
      "nhập năm sinh:1998\n",
      "Bạn năm nay 25 tuổi\n"
     ]
    }
   ],
   "source": [
    "def In_Tuoi(Namsinh):\n",
    "    a=2023\n",
    "    print(f'Bạn năm nay {a-Namsinh} tuổi')\n",
    "\n",
    "Namsinh=int(input(\"nhập năm sinh:\"))\n",
    "In_Tuoi(Namsinh)"
   ]
  }
 ],
 "metadata": {
  "kernelspec": {
   "display_name": "Python 3 (ipykernel)",
   "language": "python",
   "name": "python3"
  },
  "language_info": {
   "codemirror_mode": {
    "name": "ipython",
    "version": 3
   },
   "file_extension": ".py",
   "mimetype": "text/x-python",
   "name": "python",
   "nbconvert_exporter": "python",
   "pygments_lexer": "ipython3",
   "version": "3.10.9"
  }
 },
 "nbformat": 4,
 "nbformat_minor": 5
}
