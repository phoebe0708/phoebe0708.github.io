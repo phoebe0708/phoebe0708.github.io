{
 "cells": [
  {
   "cell_type": "code",
   "execution_count": 1,
   "id": "8199b53c",
   "metadata": {},
   "outputs": [
    {
     "name": "stdout",
     "output_type": "stream",
     "text": [
      "Ngày 1: Mua cổ phiếu\n",
      "Ngày 2: Bán cổ phiếu\n",
      "Ngày 3: Giữ nguyên\n",
      "Ngày 4: Giữ nguyên\n",
      "Ngày 5: Mua cổ phiếu\n",
      "Ngày 6: Giữ nguyên\n",
      "Ngày 7: Mua cổ phiếu\n"
     ]
    }
   ],
   "source": [
    "gia_theo_ngay = [10.1,9.5,10.7,10.8,10.6,10.0,10.2,9.5]\n",
    "for i in range(len(gia_theo_ngay)-1):\n",
    "    a = (gia_theo_ngay[i+1] - gia_theo_ngay[i]) / gia_theo_ngay[i] \n",
    "    #a là tỷ lệ phần trăm tăng/giảm\n",
    "    if a > 0.07: print(f'Ngày {i+1}: Bán cổ phiếu')\n",
    "    elif a < -0.05: print(f'Ngày {i+1}: Mua cổ phiếu')\n",
    "    else: print(f'Ngày {i+1}: Giữ nguyên')"
   ]
  },
  {
   "cell_type": "code",
   "execution_count": 2,
   "id": "7bdd44bc",
   "metadata": {},
   "outputs": [
    {
     "name": "stdout",
     "output_type": "stream",
     "text": [
      "-5 không là số nguyên tố\n",
      "1 không là số nguyên tố\n",
      "2 là số nguyên tố\n",
      "3 là số nguyên tố\n",
      "4 không là số nguyên tố\n",
      "5 là số nguyên tố\n",
      "6 không là số nguyên tố\n",
      "7 là số nguyên tố\n",
      "8 không là số nguyên tố\n"
     ]
    }
   ],
   "source": [
    "day_so = [-5, 1, 2, 3, 4, 5,  6, 7, 8]\n",
    "\n",
    "for n in day_so:\n",
    "    if n <= 1:\n",
    "        print(f'{n} không là số nguyên tố')\n",
    "    else:\n",
    "        a = 2\n",
    "        while a <= n // 2:\n",
    "            if n % a == 0:\n",
    "                print(f'{n} không là số nguyên tố')\n",
    "                break\n",
    "            a += 1\n",
    "        else:\n",
    "            print(f'{n} là số nguyên tố')"
   ]
  },
  {
   "cell_type": "code",
   "execution_count": null,
   "id": "57cc00dd",
   "metadata": {},
   "outputs": [],
   "source": [
    "def tinh_BHXH(luong, phu_cap):\n",
    "    BHXH = (luong + phu_cap) * 0.08\n",
    "    print(f'Tiền BHXH của nhân viên {i+1} là {BHXH} triệu đồng')\n",
    "\n",
    "def tinh_thue(luong, phu_cap):\n",
    "    TNTT = luong + phu_cap\n",
    "    if TNTT <= 5: PIT = TNTT * 0.05\n",
    "    elif TNTT <= 10: PIT = TNTT * 0.1 - 0.25\n",
    "    elif TNTT <= 18: PIT = TNTT * 0.15 - 0.75\n",
    "    elif TNTT <= 32: PIT = TNTT * 0.2 - 1.65\n",
    "    elif TNTT <= 52: PIT = TNTT * 0.25 - 3.25\n",
    "    elif TNTT <= 80: PIT = TNTT * 0.3 - 5.85\n",
    "    else: PIT = TNTT * 0.35 - 9.85\n",
    "    print(f'Thuế TNCN của nhân viên {i+1} là {PIT} triệu đồng')\n",
    "\n",
    "for i in range(4): #giả sử công ty có 4 nhân viên)\n",
    "    luong = int(input(f'Nhân viên {i+1} - Lương (triệu đồng):'))\n",
    "    phu_cap = int(input(f'Nhân viên {i+1} - Phụ cấp hàng tháng (triệu đồng):'))\n",
    "    tinh_BHXH(luong, phu_cap)\n",
    "    tinh_thue(luong, phu_cap)"
   ]
  }
 ],
 "metadata": {
  "kernelspec": {
   "display_name": "Python 3 (ipykernel)",
   "language": "python",
   "name": "python3"
  },
  "language_info": {
   "codemirror_mode": {
    "name": "ipython",
    "version": 3
   },
   "file_extension": ".py",
   "mimetype": "text/x-python",
   "name": "python",
   "nbconvert_exporter": "python",
   "pygments_lexer": "ipython3",
   "version": "3.10.9"
  }
 },
 "nbformat": 4,
 "nbformat_minor": 5
}
