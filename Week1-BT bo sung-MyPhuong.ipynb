{
 "cells": [
  {
   "cell_type": "markdown",
   "id": "98802000",
   "metadata": {},
   "source": [
    "# Tuần 1 - Bài tập bổ sung trên lớp"
   ]
  },
  {
   "cell_type": "markdown",
   "id": "fbc4e427",
   "metadata": {},
   "source": [
    "### Mục tiêu\n",
    "- Hiểu về cách viết 1 hàm\n",
    "- Hiểu được cách lấy dữ liệu từ người dùng\n",
    "- Hiểu được cách chuyển dữ liệu từ \"string\" sang number\n",
    "- Nắm bắt được cách thức mở rộng tính năng từ 1 code sẵn có\n",
    "* Time: 10-15 minutes"
   ]
  },
  {
   "cell_type": "markdown",
   "id": "6e837801",
   "metadata": {},
   "source": [
    "### Bài tập: Tính chỉ số BMI (Body Mass Index)\n",
    "\n",
    "Yêu cầu:\n",
    "\n",
    "Viết một hàm có tên là calculate_bmi nhận đầu vào là chiều cao (đơn vị: mét) và cân nặng (đơn vị: kilogram) của một người.\n",
    "Hàm calculate_bmi sẽ tính chỉ số BMI bằng cách chia cân nặng cho bình phương chiều cao.\n",
    "Trả về kết quả chỉ số BMI đã tính.\n",
    "Gợi ý:\n",
    "\n",
    "Sử dụng công thức: BMI = cân nặng / (chiều cao * chiều cao)"
   ]
  },
  {
   "cell_type": "code",
   "execution_count": 5,
   "id": "ba926eeb",
   "metadata": {},
   "outputs": [
    {
     "name": "stdout",
     "output_type": "stream",
     "text": [
      "Chỉ số BMI của bạn: 22.367346938775512\n"
     ]
    }
   ],
   "source": [
    "# Định nghĩa hàm calculate_bmi\n",
    "def calculate_bmi(height, weight):\n",
    "    bmi = weight / (height ** 2)\n",
    "    return bmi\n",
    "\n",
    "# Thử nghiệm hàm calculate_bmi với các giá trị chiều cao và cân nặng\n",
    "height = 1.75  # chiều cao = 1.75 mét\n",
    "weight = 68.5  # cân nặng = 68.5 kilogram\n",
    "\n",
    "bmi = calculate_bmi(height, weight)\n",
    "print(\"Chỉ số BMI của bạn:\", bmi)"
   ]
  },
  {
   "cell_type": "markdown",
   "id": "251599b0",
   "metadata": {},
   "source": [
    "# Challenge\n",
    "Bài tập trên thì chúng ta thấy height và weight là các biến chúng ta gán trực tiếp trong code.\n",
    "Hãy viết lại chương trình trên, tuy nhiên giá trị height và weight thì lấy từ bàn phím."
   ]
  },
  {
   "cell_type": "code",
   "execution_count": 1,
   "id": "e8d012b3",
   "metadata": {},
   "outputs": [
    {
     "name": "stdout",
     "output_type": "stream",
     "text": [
      "Nhập chiều cao:1.55\n",
      "Nhập cân nặng:43\n",
      "Chỉ số BMI của bạn: 17.898022892819977\n"
     ]
    }
   ],
   "source": [
    "def calculate_bmi(height, weight):\n",
    "    bmi = weight / (height ** 2)\n",
    "    return bmi\n",
    "\n",
    "height = float(input(\"Nhập chiều cao:\"))\n",
    "weight = float(input(\"Nhập cân nặng:\"))\n",
    "\n",
    "bmi = calculate_bmi(height, weight)\n",
    "print(\"Chỉ số BMI của bạn:\", bmi)"
   ]
  }
 ],
 "metadata": {
  "kernelspec": {
   "display_name": "Python 3 (ipykernel)",
   "language": "python",
   "name": "python3"
  },
  "language_info": {
   "codemirror_mode": {
    "name": "ipython",
    "version": 3
   },
   "file_extension": ".py",
   "mimetype": "text/x-python",
   "name": "python",
   "nbconvert_exporter": "python",
   "pygments_lexer": "ipython3",
   "version": "3.10.9"
  }
 },
 "nbformat": 4,
 "nbformat_minor": 5
}
